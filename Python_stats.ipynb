{
 "cells": [
  {
   "cell_type": "markdown",
   "id": "884a17dd-8bb4-4c5e-b216-147c5cd2fad8",
   "metadata": {},
   "source": [
    "# Import the programs that are going to be used "
   ]
  },
  {
   "cell_type": "code",
   "execution_count": null,
   "id": "d79ffd40-c2ad-4389-a2c4-b6e450da6c7c",
   "metadata": {},
   "outputs": [],
   "source": [
    "import pandas\n",
    "import numpy as np\n",
    "from pandas import plotting"
   ]
  }
 ],
 "metadata": {
  "kernelspec": {
   "display_name": "Python 3 (ipykernel)",
   "language": "python",
   "name": "python3"
  },
  "language_info": {
   "codemirror_mode": {
    "name": "ipython",
    "version": 3
   },
   "file_extension": ".py",
   "mimetype": "text/x-python",
   "name": "python",
   "nbconvert_exporter": "python",
   "pygments_lexer": "ipython3",
   "version": "3.11.4"
  }
 },
 "nbformat": 4,
 "nbformat_minor": 5
}
